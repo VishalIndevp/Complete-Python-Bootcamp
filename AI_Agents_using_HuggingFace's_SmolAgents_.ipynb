{
  "nbformat": 4,
  "nbformat_minor": 0,
  "metadata": {
    "colab": {
      "provenance": [],
      "authorship_tag": "ABX9TyM+L2lJBWh4dDHTWn7Y0Aa1",
      "include_colab_link": true
    },
    "kernelspec": {
      "name": "python3",
      "display_name": "Python 3"
    },
    "language_info": {
      "name": "python"
    }
  },
  "cells": [
    {
      "cell_type": "markdown",
      "metadata": {
        "id": "view-in-github",
        "colab_type": "text"
      },
      "source": [
        "<a href=\"https://colab.research.google.com/github/VishalIndevp/Complete-Python-Bootcamp/blob/main/AI_Agents_using_HuggingFace's_SmolAgents_.ipynb\" target=\"_parent\"><img src=\"https://colab.research.google.com/assets/colab-badge.svg\" alt=\"Open In Colab\"/></a>"
      ]
    },
    {
      "cell_type": "code",
      "execution_count": null,
      "metadata": {
        "id": "jAKGUkqcd2pK"
      },
      "outputs": [],
      "source": [
        "!pip -q install smolagents"
      ]
    },
    {
      "cell_type": "code",
      "source": [
        "! pip install litellm -q"
      ],
      "metadata": {
        "id": "BUpNXGQ0d94G"
      },
      "execution_count": null,
      "outputs": []
    },
    {
      "cell_type": "code",
      "source": [
        "import os\n",
        "os.environ['HF_TOKEN'] = 'your_token'\n",
        "os.environ['OPENAI_API_KEY'] = 'your_openai_api_key_here'"
      ],
      "metadata": {
        "id": "vNnm38ubd96a"
      },
      "execution_count": null,
      "outputs": []
    },
    {
      "cell_type": "code",
      "source": [
        "from smolagents import CodeAgent,HfApiModel\n",
        "#smolagents is used to conver the everything code in python"
      ],
      "metadata": {
        "id": "bph1uYdkd992"
      },
      "execution_count": null,
      "outputs": []
    },
    {
      "cell_type": "code",
      "source": [
        "model=HfApiModel()"
      ],
      "metadata": {
        "id": "pcBAYGcYeIDu"
      },
      "execution_count": null,
      "outputs": []
    },
    {
      "cell_type": "code",
      "source": [
        "agent= CodeAgent(tools=[],model=model)"
      ],
      "metadata": {
        "id": "0EfiP1JzeIGL"
      },
      "execution_count": null,
      "outputs": []
    },
    {
      "cell_type": "markdown",
      "source": [
        "# This is formatted as code"
      ],
      "metadata": {
        "id": "RV_vb1qa6jt5"
      }
    },
    {
      "cell_type": "code",
      "source": [
        "from smolagents import DuckDuckGoSearchTool"
      ],
      "metadata": {
        "id": "U5EM_Fl8eIJf"
      },
      "execution_count": null,
      "outputs": []
    },
    {
      "cell_type": "code",
      "source": [
        "agent= CodeAgent(tools=[DuckDuckGoSearchTool()],model=model)"
      ],
      "metadata": {
        "id": "7KqqYsxyePW2"
      },
      "execution_count": null,
      "outputs": []
    },
    {
      "cell_type": "code",
      "source": [
        "agent = CodeAgent(tools=[DuckDuckGoSearchTool()],model=HfApiModel(),additional_authorized_imports=['pandas','request','bs4', 'matplotlib', 'yfinance'])"
      ],
      "metadata": {
        "id": "yYdhBJ747muK"
      },
      "execution_count": null,
      "outputs": []
    },
    {
      "cell_type": "markdown",
      "source": [
        "# How to create custom tool"
      ],
      "metadata": {
        "id": "MRiRG9N7esVF"
      }
    },
    {
      "cell_type": "code",
      "source": [
        "from smolagents import Tool\n",
        "\n",
        "class HFMode1DownloadsTool(Tool) :\n",
        "  name = \"model download counter\"\n",
        "  description =\"\"\"\n",
        "  This is a tool that returns the most downloaded model of a given task on the Hugging Face Hub.\n",
        "  It returns the name of the checkpoint. \"\"\"\n",
        "  inputs ={\n",
        "      \"task\":{\n",
        "          \"type\": \"string\",\n",
        "          \"description\": \"the task category (such as text-classification, dept -estimation,etc)\",\n",
        "\n",
        "      }\n",
        "  }\n",
        "  output_type = \"string\"\n",
        "\n",
        "\n",
        "\n",
        "def forward(self,task:str):\n",
        "  from huggingface_hub import list_models\n",
        "\n",
        "  model = next(iter(list_models(filter=task, sort=\"downloads \" ,directlon=1)))\n",
        "  return model.id"
      ],
      "metadata": {
        "id": "B_LXfL1WePZQ"
      },
      "execution_count": null,
      "outputs": []
    },
    {
      "cell_type": "markdown",
      "source": [
        "# Asking questions to Agent"
      ],
      "metadata": {
        "id": "Zr_rtKiuebvz"
      }
    },
    {
      "cell_type": "code",
      "source": [
        "agent.run(\"What is 24*33?\")"
      ],
      "metadata": {
        "id": "0niQV7oBeoon"
      },
      "execution_count": null,
      "outputs": []
    },
    {
      "cell_type": "code",
      "source": [
        "agent.run(\"Fetch the share price of Google from 2020 to 2024 and also create a line graph from it\")"
      ],
      "metadata": {
        "id": "tWwecdSMeo7F"
      },
      "execution_count": null,
      "outputs": []
    },
    {
      "cell_type": "code",
      "source": [
        "agent.run(\"WWE Roman Reigns real name is?\")"
      ],
      "metadata": {
        "id": "Ix4NK9lR6utO"
      },
      "execution_count": null,
      "outputs": []
    }
  ]
}